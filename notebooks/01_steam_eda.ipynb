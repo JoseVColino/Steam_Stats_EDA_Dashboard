{
 "cells": [
  {
   "cell_type": "markdown",
   "metadata": {},
   "source": [
    "# Steam Stats Exploratory Data Analysis\n",
    "\n",
    "This notebook contains the exploratory data analysis of Steam game statistics dataset.\n",
    "\n",
    "## Table of Contents\n",
    "1. [Data Loading Link](#data-loading)\n",
    "2. [Data Overview](#data-overview)\n",
    "3. [Data Cleaning](#data-cleaning)\n",
    "4. [Exploratory Analysis](#exploratory-analysis)\n",
    "5. [Visualizations](#visualizations)\n",
    "6. [Key Findings](#key-findings)"
   ]
  },
  {
   "cell_type": "code",
   "execution_count": null,
   "metadata": {},
   "outputs": [],
   "source": [
    "# Import required libraries\n",
    "import pandas as pd\n",
    "import numpy as np\n",
    "import matplotlib.pyplot as plt\n",
    "import seaborn as sns\n",
    "import plotly.express as px\n",
    "import plotly.graph_objects as go\n",
    "from pathlib import Path\n",
    "\n",
    "# Import custom modules\n",
    "import sys\n",
    "sys.path.append('../src')\n",
    "from data.data_loader import load_steam_data, clean_steam_data\n",
    "\n",
    "# Configure plotting\n",
    "plt.style.use('seaborn-v0_8')\n",
    "sns.set_palette(\"husl\")\n",
    "%matplotlib inline"
   ]
  },
  {
   "cell_type": "markdown",
   "metadata": {},
   "source": [
    "## Data Loading\n",
    "\n",
    "Load the Steam dataset from Kaggle. Make sure to place your dataset in the `data/raw/` directory."
   ]
  },
  {
   "cell_type": "code",
   "execution_count": null,
   "metadata": {},
   "outputs": [],
   "source": [
    "# Load the dataset\n",
    "# TODO: Replace with actual dataset filename\n",
    "data_path = '../data/raw/steam_dataset.csv'\n",
    "df = load_steam_data(data_path)\n",
    "\n",
    "# Display basic information\n",
    "print(f\"Dataset shape: {df.shape}\")\n",
    "df.head()"
   ]
  },
  {
   "cell_type": "markdown",
   "metadata": {},
   "source": [
    "## Data Overview\n",
    "\n",
    "Get an overview of the dataset structure and basic statistics."
   ]
  },
  {
   "cell_type": "code",
   "execution_count": null,
   "metadata": {},
   "outputs": [],
   "source": [
    "# Basic dataset information\n",
    "print(\"Dataset Info:\")\n",
    "df.info()\n",
    "\n",
    "print(\"\\nBasic Statistics:\")\n",
    "df.describe()"
   ]
  },
  {
   "cell_type": "code",
   "execution_count": null,
   "metadata": {},
   "outputs": [],
   "source": [
    "# Check for missing values\n",
    "print(\"Missing Values:\")\n",
    "missing_data = df.isnull().sum()\n",
    "missing_data[missing_data > 0].sort_values(ascending=False)"
   ]
  },
  {
   "cell_type": "markdown",
   "metadata": {},
   "source": [
    "## Data Cleaning\n",
    "\n",
    "Clean and preprocess the data for analysis."
   ]
  },
  {
   "cell_type": "code",
   "execution_count": null,
   "metadata": {},
   "outputs": [],
   "source": [
    "# Clean the dataset\n",
    "df_clean = clean_steam_data(df)\n",
    "\n",
    "print(f\"Original dataset: {len(df)} rows\")\n",
    "print(f\"Cleaned dataset: {len(df_clean)} rows\")\n",
    "print(f\"Rows removed: {len(df) - len(df_clean)}\")"
   ]
  },
  {
   "cell_type": "markdown",
   "metadata": {},
   "source": [
    "## Exploratory Analysis\n",
    "\n",
    "Perform detailed exploratory analysis of the Steam data."
   ]
  },
  {
   "cell_type": "code",
   "execution_count": null,
   "metadata": {},
   "outputs": [],
   "source": [
    "# TODO: Add specific analysis based on your dataset columns\n",
    "# Examples:\n",
    "# - Game price analysis\n",
    "# - Genre popularity\n",
    "# - Release date trends\n",
    "# - Rating analysis\n",
    "# - Platform analysis\n",
    "\n",
    "print(\"Column names in the dataset:\")\n",
    "print(df_clean.columns.tolist())"
   ]
  },
  {
   "cell_type": "markdown",
   "metadata": {},
   "source": [
    "## Visualizations\n",
    "\n",
    "Create visualizations to better understand the data patterns."
   ]
  },
  {
   "cell_type": "code",
   "execution_count": null,
   "metadata": {},
   "outputs": [],
   "source": [
    "# TODO: Uncomment and modify based on your dataset columns\n",
    "# plot_price_distribution(df_clean, 'price')\n",
    "# plot_genre_popularity(df_clean, 'genres')"
   ]
  },
  {
   "cell_type": "markdown",
   "metadata": {},
   "source": [
    "## Initial EDA"
   ]
  },
  {
   "cell_type": "markdown",
   "metadata": {},
   "source": [
    "## Key Findings\n",
    "\n",
    "Summarize the key insights from the exploratory data analysis:\n",
    "\n",
    "1. **Finding 1**: Description of key insight\n",
    "2. **Finding 2**: Description of key insight\n",
    "3. **Finding 3**: Description of key insight\n",
    "\n",
    "### Next Steps\n",
    "- Data preprocessing for dashboard\n",
    "- Feature engineering\n",
    "- Dashboard development"
   ]
  }
 ],
 "metadata": {
  "kernelspec": {
   "display_name": "Python 3",
   "language": "python",
   "name": "python3"
  },
  "language_info": {
   "codemirror_mode": {
    "name": "ipython",
    "version": 3
   },
   "file_extension": ".py",
   "mimetype": "text/x-python",
   "name": "python",
   "nbconvert_exporter": "python",
   "pygments_lexer": "ipython3",
   "version": "3.8.0"
  }
 },
 "nbformat": 4,
 "nbformat_minor": 4
}
